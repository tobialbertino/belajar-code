{
 "metadata": {
  "language_info": {
   "codemirror_mode": {
    "name": "ipython",
    "version": 3
   },
   "file_extension": ".py",
   "mimetype": "text/x-python",
   "name": "python",
   "nbconvert_exporter": "python",
   "pygments_lexer": "ipython3",
   "version": "3.8.2"
  },
  "orig_nbformat": 4,
  "kernelspec": {
   "name": "python3",
   "display_name": "Python 3.8.2 64-bit"
  },
  "interpreter": {
   "hash": "d8493014cf6ea83f11f91b12702c46c2c7f0e5ba270b406279210ca25297149b"
  }
 },
 "nbformat": 4,
 "nbformat_minor": 2,
 "cells": [
  {
   "cell_type": "code",
   "execution_count": 10,
   "metadata": {},
   "outputs": [],
   "source": [
    "# Link Punya Lichin\n",
    "# https://colab.research.google.com/drive/16teIawCgcgYeiD_Xzi36Hro1gLkCb7Cb?usp=sharing\\\n",
    "\n",
    "file = open('seqA.fasta')"
   ]
  },
  {
   "cell_type": "code",
   "execution_count": 11,
   "metadata": {},
   "outputs": [
    {
     "output_type": "stream",
     "name": "stdout",
     "text": [
      "c:\\Users\\TOBI\\Documents\\belajar-code\\Belajar_Python\\P_Bio\\LKP1\n"
     ]
    }
   ],
   "source": [
    "!echo %cd%"
   ]
  },
  {
   "cell_type": "code",
   "execution_count": 1,
   "metadata": {},
   "outputs": [],
   "source": [
    "import json\n",
    "# list amino acid one letter code\n",
    "translateNameProtein= {\n",
    "    'A': 'Alanine', 'C': 'Cysteine', 'D': 'Aspartic_acid',\n",
    "    'E': 'Glutamic_acid', 'F': 'Phenylalanine', 'G': 'Glycine',\n",
    "    'H': 'Histidine', 'I': 'Isoleucine', 'K': 'Lysine',\n",
    "    'L': 'Leucine', 'M': 'Methionine', 'N': 'Asparagine',\n",
    "    'O': 'Stop', 'P': 'Proline', 'Q': 'Glutamine',\n",
    "    'R': 'Arginine', 'S': 'Serine', 'T': 'Threonine',\n",
    "    'V': 'Valine', 'W': 'Tryptophan', 'Y': 'Tyrosine'\n",
    "}\n",
    "\n",
    "def main(fileName):\n",
    "    fh = open(fileName)             # Membuka file\n",
    "\n",
    "    baris_pertama = fh.readline()   # membaca baris pertama\n",
    "    name = baris_pertama[1: -1]     # menghilangkan tanda awal dan akhir\n",
    "    name = name.replace('|', ' | ') # memberi jarak pemisah |\n",
    "    sequence = ''\n",
    "    while True:                     # loop untuk mengambil sequence\n",
    "        baris = fh.readline()       # baca perbaris\n",
    "        if (baris == ''):           # akhiri jika null\n",
    "            break\n",
    "        else :                      # tambahkan, hilangkan \\n\n",
    "            sequence += baris.replace('\\n', '')\n",
    "\n",
    "    print('the name is: %s' %name)\n",
    "    print('the sequence is: %s' %sequence)\n",
    "\n",
    "    seqAsam = list(sorted(set(sequence)))   # Urutkan list sequence, dan hilangkan duplikasi dgn set()\n",
    "\n",
    "    jumlahAsam = []\n",
    "    distribusiAsam = []\n",
    "    objectJumlahAsam = {}\n",
    "    objectDistribusiAsam = {}\n",
    "    total = 0\n",
    "    for i in range(len(seqAsam)):           # loop menghitung jumlah\n",
    "        jumlah = sequence.count(seqAsam[i]) # hitung jumlah asam\n",
    "        total += jumlah                     # tambahkan total\n",
    "        jumlahAsam.append(str(translateNameProtein[seqAsam[i]])+ ': '+ str(jumlah)) # tamba list\n",
    "        objectJumlahAsam[translateNameProtein[seqAsam[i]]] = jumlah  # untuk menambah object \n",
    "    \n",
    "    for i in range(len(seqAsam)):           # loop presentase asam\n",
    "        jumlah = sequence.count(seqAsam[i]) # ambil jumlah\n",
    "        distribusiAsam.append(str(translateNameProtein[seqAsam[i]]) + ': ' + str(format((jumlah/total) * 100, '.2f')) + '%') # tambah list\n",
    "        objectDistribusiAsam[translateNameProtein[seqAsam[i]]] = str(format((jumlah/total) * 100, '.2f')) + '%'\n",
    "\n",
    "    print('\\njumlah asam amino')\n",
    "    for i in range(len(seqAsam)):\n",
    "        print (jumlahAsam[i])\n",
    "\n",
    "    print('\\njumlah presentase asam amino')\n",
    "    for i in range(len(seqAsam)):\n",
    "        print (distribusiAsam[i])\n",
    "    \n",
    "    print(objectJumlahAsam)\n",
    "    print(objectDistribusiAsam)\n",
    "    \n",
    "    ans = open('sequence pada ' + fileName, 'w+')\n",
    "    ans.write(name + '\\n')\n",
    "    ans.write('sequence: \\n')\n",
    "    ans.write(sequence + '\\n')\n",
    "    ans.write('jumlah tiap Asam amino pada ' + fileName + ': \\n')\n",
    "    ans.write(json.dumps(objectJumlahAsam) + '\\n')\n",
    "    ans.write('distribusi tiap Asam amino pada ' + fileName + ': \\n')\n",
    "    ans.write(json.dumps(objectDistribusiAsam) + '\\n')\n",
    "    ans.close()\n",
    "\n",
    "    fh.close()\n"
   ]
  },
  {
   "cell_type": "code",
   "execution_count": 30,
   "metadata": {},
   "outputs": [
    {
     "output_type": "stream",
     "name": "stdout",
     "text": [
      "\n=>\nthe name is: 000626  |  HUMAN Small inducible cytokine A22.\nthe sequence is: MARLOTALLVVLVLLAVALQATEAGPYGANMEDSVCCRDYVRYRLPLRVVKHFYWTSDSCPRPGVVLLTFRDKEICADPRVPWVKMILNKLSO\n\njumlah asam amino\nAlanine: 8\nCysteine: 4\nAspartic_acid: 5\nGlutamic_acid: 3\nPhenylalanine: 2\nGlycine: 3\nHistidine: 1\nIsoleucine: 2\nLysine: 4\nLeucine: 13\nMethionine: 3\nAsparagine: 2\nStop: 2\nProline: 6\nGlutamine: 1\nArginine: 8\nSerine: 4\nThreonine: 4\nValine: 12\nTryptophan: 2\nTyrosine: 4\n\njumlah presentase asam amino\nAlanine: 8.60%\nCysteine: 4.30%\nAspartic_acid: 5.38%\nGlutamic_acid: 3.23%\nPhenylalanine: 2.15%\nGlycine: 3.23%\nHistidine: 1.08%\nIsoleucine: 2.15%\nLysine: 4.30%\nLeucine: 13.98%\nMethionine: 3.23%\nAsparagine: 2.15%\nStop: 2.15%\nProline: 6.45%\nGlutamine: 1.08%\nArginine: 8.60%\nSerine: 4.30%\nThreonine: 4.30%\nValine: 12.90%\nTryptophan: 2.15%\nTyrosine: 4.30%\n{'Alanine': 8, 'Cysteine': 4, 'Aspartic_acid': 5, 'Glutamic_acid': 3, 'Phenylalanine': 2, 'Glycine': 3, 'Histidine': 1, 'Isoleucine': 2, 'Lysine': 4, 'Leucine': 13, 'Methionine': 3, 'Asparagine': 2, 'Stop': 2, 'Proline': 6, 'Glutamine': 1, 'Arginine': 8, 'Serine': 4, 'Threonine': 4, 'Valine': 12, 'Tryptophan': 2, 'Tyrosine': 4}\n{'Alanine': '8.60%', 'Cysteine': '4.30%', 'Aspartic_acid': '5.38%', 'Glutamic_acid': '3.23%', 'Phenylalanine': '2.15%', 'Glycine': '3.23%', 'Histidine': '1.08%', 'Isoleucine': '2.15%', 'Lysine': '4.30%', 'Leucine': '13.98%', 'Methionine': '3.23%', 'Asparagine': '2.15%', 'Stop': '2.15%', 'Proline': '6.45%', 'Glutamine': '1.08%', 'Arginine': '8.60%', 'Serine': '4.30%', 'Threonine': '4.30%', 'Valine': '12.90%', 'Tryptophan': '2.15%', 'Tyrosine': '4.30%'}\n"
     ]
    }
   ],
   "source": [
    "print('\\n=>')\n",
    "main('seqA.fasta')"
   ]
  },
  {
   "cell_type": "code",
   "execution_count": 2,
   "metadata": {},
   "outputs": [
    {
     "output_type": "stream",
     "name": "stdout",
     "text": [
      "\n=>\nthe name is: 2MK2_1 | Chain A | Phosphatidylinositol 3,4,5-trisphosphate 5-phosphatase 2 | Homo sapiens (9606)\nthe sequence is: MGHHHHHHSHMSWYHRDLSRAAAEELLARAGRDGSFLVRDSESVAGAFALCVLYQKHVHTYRILPDGEDFLAVQTSQGVPVRRFQTLGELIGLYAQPNQGLVCALLLPV\n\njumlah asam amino\nAlanine: 11\nCysteine: 2\nAspartic_acid: 5\nGlutamic_acid: 5\nPhenylalanine: 4\nGlycine: 9\nHistidine: 10\nIsoleucine: 2\nLysine: 1\nLeucine: 15\nMethionine: 2\nAsparagine: 1\nProline: 4\nGlutamine: 6\nArginine: 8\nSerine: 7\nThreonine: 3\nValine: 9\nTryptophan: 1\nTyrosine: 4\n\njumlah presentase asam amino\nAlanine: 10.09%\nCysteine: 1.83%\nAspartic_acid: 4.59%\nGlutamic_acid: 4.59%\nPhenylalanine: 3.67%\nGlycine: 8.26%\nHistidine: 9.17%\nIsoleucine: 1.83%\nLysine: 0.92%\nLeucine: 13.76%\nMethionine: 1.83%\nAsparagine: 0.92%\nProline: 3.67%\nGlutamine: 5.50%\nArginine: 7.34%\nSerine: 6.42%\nThreonine: 2.75%\nValine: 8.26%\nTryptophan: 0.92%\nTyrosine: 3.67%\n{'Alanine': 11, 'Cysteine': 2, 'Aspartic_acid': 5, 'Glutamic_acid': 5, 'Phenylalanine': 4, 'Glycine': 9, 'Histidine': 10, 'Isoleucine': 2, 'Lysine': 1, 'Leucine': 15, 'Methionine': 2, 'Asparagine': 1, 'Proline': 4, 'Glutamine': 6, 'Arginine': 8, 'Serine': 7, 'Threonine': 3, 'Valine': 9, 'Tryptophan': 1, 'Tyrosine': 4}\n{'Alanine': '10.09%', 'Cysteine': '1.83%', 'Aspartic_acid': '4.59%', 'Glutamic_acid': '4.59%', 'Phenylalanine': '3.67%', 'Glycine': '8.26%', 'Histidine': '9.17%', 'Isoleucine': '1.83%', 'Lysine': '0.92%', 'Leucine': '13.76%', 'Methionine': '1.83%', 'Asparagine': '0.92%', 'Proline': '3.67%', 'Glutamine': '5.50%', 'Arginine': '7.34%', 'Serine': '6.42%', 'Threonine': '2.75%', 'Valine': '8.26%', 'Tryptophan': '0.92%', 'Tyrosine': '3.67%'}\n\n=>\nthe name is: 3W6A_1 | Chain A | Lysozyme C | Gallus gallus (9031)\nthe sequence is: KVFGRCELAAAMKRHGLDNYRGYSLGNWVCAAKFESNFNTQATNRNTDGSTDYGILQINSRWWCNDGRTPGSRNLCNIPCSALLSSDITASVNCAKKIVSDGNGMNAWVAWRNRCKGTDVQAWIRGCRL\n\njumlah asam amino\nAlanine: 12\nCysteine: 8\nAspartic_acid: 7\nGlutamic_acid: 2\nPhenylalanine: 3\nGlycine: 12\nHistidine: 1\nIsoleucine: 6\nLysine: 6\nLeucine: 8\nMethionine: 2\nAsparagine: 14\nProline: 2\nGlutamine: 3\nArginine: 11\nSerine: 10\nThreonine: 7\nValine: 6\nTryptophan: 6\nTyrosine: 3\n\njumlah presentase asam amino\nAlanine: 9.30%\nCysteine: 6.20%\nAspartic_acid: 5.43%\nGlutamic_acid: 1.55%\nPhenylalanine: 2.33%\nGlycine: 9.30%\nHistidine: 0.78%\nIsoleucine: 4.65%\nLysine: 4.65%\nLeucine: 6.20%\nMethionine: 1.55%\nAsparagine: 10.85%\nProline: 1.55%\nGlutamine: 2.33%\nArginine: 8.53%\nSerine: 7.75%\nThreonine: 5.43%\nValine: 4.65%\nTryptophan: 4.65%\nTyrosine: 2.33%\n{'Alanine': 12, 'Cysteine': 8, 'Aspartic_acid': 7, 'Glutamic_acid': 2, 'Phenylalanine': 3, 'Glycine': 12, 'Histidine': 1, 'Isoleucine': 6, 'Lysine': 6, 'Leucine': 8, 'Methionine': 2, 'Asparagine': 14, 'Proline': 2, 'Glutamine': 3, 'Arginine': 11, 'Serine': 10, 'Threonine': 7, 'Valine': 6, 'Tryptophan': 6, 'Tyrosine': 3}\n{'Alanine': '9.30%', 'Cysteine': '6.20%', 'Aspartic_acid': '5.43%', 'Glutamic_acid': '1.55%', 'Phenylalanine': '2.33%', 'Glycine': '9.30%', 'Histidine': '0.78%', 'Isoleucine': '4.65%', 'Lysine': '4.65%', 'Leucine': '6.20%', 'Methionine': '1.55%', 'Asparagine': '10.85%', 'Proline': '1.55%', 'Glutamine': '2.33%', 'Arginine': '8.53%', 'Serine': '7.75%', 'Threonine': '5.43%', 'Valine': '4.65%', 'Tryptophan': '4.65%', 'Tyrosine': '2.33%'}\n"
     ]
    }
   ],
   "source": [
    "print('\\n=>')\n",
    "main('rcsb_pdb_2MK2.fasta')\n",
    "print('\\n=>')\n",
    "main('rcsb_pdb_3W6A.fasta')"
   ]
  },
  {
   "source": [
    "# Versi SeqA"
   ],
   "cell_type": "markdown",
   "metadata": {}
  },
  {
   "cell_type": "code",
   "execution_count": 62,
   "metadata": {},
   "outputs": [],
   "source": [
    "# Untuk SeqA.fasta\n",
    "# list amino acid one letter code\n",
    "namaAsamAmino= {\n",
    "     'A': 'Alanine', 'C': 'Cysteine', 'D': 'Aspartic_acid',\n",
    "     'E': 'Glutamic_acid', 'F': 'Phenylalanine', 'G': 'Glycine',\n",
    "     'H': 'Histidine', 'I': 'Isoleucine', 'K': 'Lysine',\n",
    "     'L': 'Leucine', 'M': 'Methionine', 'N': 'Asparagine',\n",
    "     'O': 'Stop', 'P': 'Proline', 'Q': 'Glutamine',\n",
    "     'R': 'Arginine', 'S': 'Serine', 'T': 'Threonine',\n",
    "     'V': 'Valine', 'W': 'Tryptophan', 'Y': 'Tyrosine'\n",
    " }\n",
    "\n",
    "def main(fileName):\n",
    "    fh = open(fileName)\n",
    "\n",
    "    baris_pertama = fh.readline()\n",
    "    name = baris_pertama[1: -1]   # menghilangkan tanda awal dan akhir\n",
    "    name = name.split('|') # split separator | return list\n",
    "\n",
    "    sequence = ''\n",
    "    while True:\n",
    "        baris = fh.readline()\n",
    "        if (baris == ''):\n",
    "            break\n",
    "        else :\n",
    "            sequence += baris.replace('\\n', '')\n",
    "\n",
    "    print('the id name is: %s' %name[0])\n",
    "    print('the protein name is: %s' %name[1])\n",
    "    print('the sequence is: %s' %sequence)\n",
    "\n",
    "    seqAsam = list(sorted(set(sequence)))\n",
    "    # asamTranslate = translate(seqAsam)\n",
    "\n",
    "    jumlahAsam = []\n",
    "    distribusiAsam = []\n",
    "    total = 0\n",
    "    for i in range(len(seqAsam)):\n",
    "        jumlah = sequence.count(seqAsam[i])\n",
    "        total += jumlah\n",
    "        # jumlahAsam[seqAsam[i]] = jumlah\n",
    "        jumlahAsam.append(str(namaAsamAmino[seqAsam[i]])+ ': '+ str(jumlah))\n",
    "    \n",
    "    for i in range(len(seqAsam)):\n",
    "        jumlah = sequence.count(seqAsam[i])\n",
    "        # distribusiAsam[seqAsam[i]] = str(format((jumlah/total) * 100, '.2f')) + '%'\n",
    "        distribusiAsam.append(str(namaAsamAmino[seqAsam[i]]) + ': ' + str(format((jumlah/total) * 100, '.2f')) + '%')\n",
    "\n",
    "    # print(jumlahAsam)\n",
    "    # print(distribusiAsam)\n",
    "    print('\\njumlah asam amino')\n",
    "    for i in range(len(seqAsam)):\n",
    "        print (jumlahAsam[i])\n",
    "\n",
    "    print('\\njumlah presentase asam amino')\n",
    "    for i in range(len(seqAsam)):\n",
    "        print (distribusiAsam[i])\n"
   ]
  },
  {
   "cell_type": "code",
   "execution_count": 63,
   "metadata": {},
   "outputs": [
    {
     "output_type": "stream",
     "name": "stdout",
     "text": [
      "the id name is: 000626 \nthe protein name is:  HUMAN Small inducible cytokine A22.\nthe sequence is: MARLOTALLVVLVLLAVALQATEAGPYGANMEDSVCCRDYVRYRLPLRVVKHFYWTSDSCPRPGVVLLTFRDKEICADPRVPWVKMILNKLSO\n\njumlah asam amino\nAlanine: 8\nCysteine: 4\nAspartic_acid: 5\nGlutamic_acid: 3\nPhenylalanine: 2\nGlycine: 3\nHistidine: 1\nIsoleucine: 2\nLysine: 4\nLeucine: 13\nMethionine: 3\nAsparagine: 2\nStop: 2\nProline: 6\nGlutamine: 1\nArginine: 8\nSerine: 4\nThreonine: 4\nValine: 12\nTryptophan: 2\nTyrosine: 4\n\njumlah presentase asam amino\nAlanine: 8.60%\nCysteine: 4.30%\nAspartic_acid: 5.38%\nGlutamic_acid: 3.23%\nPhenylalanine: 2.15%\nGlycine: 3.23%\nHistidine: 1.08%\nIsoleucine: 2.15%\nLysine: 4.30%\nLeucine: 13.98%\nMethionine: 3.23%\nAsparagine: 2.15%\nStop: 2.15%\nProline: 6.45%\nGlutamine: 1.08%\nArginine: 8.60%\nSerine: 4.30%\nThreonine: 4.30%\nValine: 12.90%\nTryptophan: 2.15%\nTyrosine: 4.30%\n"
     ]
    }
   ],
   "source": [
    "main('seqA.fasta')"
   ]
  }
 ]
}